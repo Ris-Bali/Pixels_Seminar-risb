{
 "cells": [
  {
   "cell_type": "markdown",
   "metadata": {},
   "source": [
    "# **Introduction to OpenCV**"
   ]
  },
  {
   "cell_type": "markdown",
   "metadata": {},
   "source": [
    "### What is OpenCV?\n",
    "- *OpenCV* or Open Source Computer Vision Library is an open source computer vision and machine learning library with support in major programming languages namely: Python, Java, C, and C++.\n",
    "\n",
    "- Because the library is BSD-licensed, it is easy to apply OpenCV to business everywhere.\n",
    "\n",
    "- *OpenCV* is a cross-platform library using which we can develop real-time computer vision applications. It mainly focuses on image processing, video capture and analysis including features like face detection and object detection."
   ]
  },
  {
   "cell_type": "markdown",
   "metadata": {},
   "source": [
    "1. Open CV is an Open Source, C++ based API(Application Programming Interface) Library for Computer Vision\n",
    "2. It includes several computer vision algorithms\n",
    "3. It is a library written in C++, but has also its binding in Python. This means that C++ code is executed behind the scene in Python.\n",
    "4. Why in Python? It's a bit easy to implement for beginning\n",
    "5. Explore more of OpenCV [here](https://opencv.org/)"
   ]
  },
  {
   "cell_type": "markdown",
   "metadata": {},
   "source": [
    "- **Computer Vision** : \n",
    "Computer Vision can be defined as a discipline that explains how to reconstruct, interrupt, and understand a 3D scene from its 2D images, in terms of the properties of the structure present in the scene. It deals with modeling and replicating human vision using computer software and hardware.\n",
    "\n",
    "- Computer Vision overlaps significantly with the following fields −\n",
    "\n",
    "  1. **Image Processing** − It focuses on image manipulation.\n",
    "\n",
    "  2. **Pattern Recognition** − It explains various techniques to classify patterns.\n",
    "\n",
    "  3. **Photogrammetry** − It is concerned with obtaining accurate measurements from images.\n",
    "\n",
    "Applications of OpenCV: There are lots of applications which are solved using OpenCV, some of them are listed below \n",
    " \n",
    "* face recognition\n",
    "* Automated inspection and surveillance \n",
    "* number of people – count (foot traffic in a mall, etc)\n",
    "* Vehicle counting on highways along with their speeds\n",
    "* Interactive art installations\n",
    "* Anamoly (defect) detection in the manufacturing process (the odd defective products)\n",
    "* Street view image stitching\n",
    "* Video/image search and retrieval\n",
    "* Robot and driver-less car navigation and control\n",
    "* object recognition\n",
    "* Medical image analysis\n",
    "* Movies – 3D structure from motion\n",
    "* TV Channels advertisement recognition\n",
    "\n",
    "OpenCV Functionality \n",
    " \n",
    "\n",
    "* Image/video I/O, processing, display (core, imgproc, highgui)\n",
    "* Object/feature detection (objdetect, features2d, nonfree)\n",
    "* Geometry-based monocular or stereo computer vision (calib3d, stitching, videostab)\n",
    "* Computational photography (photo, video, superres)\n",
    "    Machine learning & clustering (ml, flann)\n",
    "    CUDA acceleration (gpu)\n",
    "\n",
    "## Function Descriptions\n",
    "\n",
    "Refer this from **google** and [OpenCv Docs](https://docs.opencv.org/master/index.html)\n",
    "\n",
    "| Sr. <br>No. | Function<br>Name                                                                                                             | Parameters                                                                                                                                                                                                                                                                                                                                                                                                                                                                                                                                                                                                                                                                                                                                                                                                                                                                                | Description                                                                                                                                                                                                                                                       |\n",
    "|:------------|:-----------------------------------------------------------------------------------------------------------------------------|:------------------------------------------------------------------------------------------------------------------------------------------------------------------------------------------------------------------------------------------------------------------------------------------------------------------------------------------------------------------------------------------------------------------------------------------------------------------------------------------------------------------------------------------------------------------------------------------------------------------------------------------------------------------------------------------------------------------------------------------------------------------------------------------------------------------------------------------------------------------------------------------|:------------------------------------------------------------------------------------------------------------------------------------------------------------------------------------------------------------------------------------------------------------------|\n",
    "| 1           | cv2.imread(filename, [flags])                                                                                                | filename: Name of file to be loaded.<br>flags: Flag that can take values of<br>cv::ImreadModes                                                                                                                                                                                                                                                                                                                                                                                                                                                                                                                                                                                                                                                                                                                                                                                            | The function imread loads an image from the specified file and returns it.                                                                                                                                                                                        |\n",
    "| 2           | cv2.imshow(window_name, image)<br>                                                                                           | window_name: A string representing the name of the window in which image to be displayed.<br>image: It is the image that is to be displayed.                                                                                                                                                                                                                                                                                                                                                                                                                                                                                                                                                                                                                                                                                                                                              | cv2.imshow() method is used to display an image in a window. The window automatically fits to the image size.It doesn’t return anything.                                                                                                                          |\n",
    "| 3           | cv2.cvtColor(src, code[, dst[, dstCn]])                                                                                      | src: It is the image whose color space is to be changed.<br>code: It is the color space conversion code.<br>dst: It is the output image of the same size and depth as src image. It is an optional parameter.<br>dstCn: It is the number of channels in the destination image. <br>If the parameter is 0 then the number of the channels is derived automatically from src and code. <br>It is an optional parameter.                                                                                                                                                                                                                                                                                                                                                                                                                                                                     | cv2.cvtColor() method is used to convert an image from one color space to another. There are more than 150 color-space conversion methods available in OpenCV.<br>It returns an image.                                                                            |\n",
    "| 4           | cv2.resize(src, dsize[, dst[, fx[, fy[, <br>interpolation]]]])                                                               | src: source/input image<br>dsize: desired size for the output image<br>fx: scale factor along the horizontal axis<br>fy: scale factor along the vertical axis                                                                                                                                                                                                                                                                                                                                                                                                                                                                                                                                                                                                                                                                                                                             | To resize an image, OpenCV provides cv2.resize() function.                                                                                                                                                                                                        |\n",
    "| 5           | cv2.addWeighted(src1, alpha, src2, beta, gamma[,<br>dst[, dtype]])<br>                                                       | src1: first input array<br>alpha: weight of the first array elements<br>src2: second input array of the same size and channel number as src1<br>beta: weight of the second array elements<br>dst: output array that has the same size and number of channels as the input arrays<br>gamma: scalar added to each sum<br>dtype: optional depth of the output array                                                                                                                                                                                                                                                                                                                                                                                                                                                                                                                          | This function is used to output the weighted sum of overlapping/blending of two images.                                                                                                                                                                           |\n",
    "| 6           | cv2.threshold(source, thresholdValue, maxVal, <br>thresholdingTechnique)                                                     | source: Input Image array (must be in Grayscale). <br>thresholdValue: Value of Threshold below and above which pixel values will change accordingly.<br>maxVal: Maximum value that can be assigned to a pixel.<br>thresholdingTechnique: The type of thresholding to be applied. eg. simple, binary etc                                                                                                                                                                                                                                                                                                                                                                                                                                                                                                                                                                                   | This function is used for thresholding. The basic Thresholding technique is Binary Thresholding. For every pixel, the same threshold value is applied. If the pixel value is smaller than the threshold, it is set to 0, otherwise, it is set to a maximum value. |\n",
    "| 7           | cv2.bitwise_and(src1, src2[, dst[, mask]])<br>                                                                               | src1: first input array or a scalar.<br>src2: second input array or a scalar.<br>dst: output array that has the same size and type as the input arrays.<br>mask: optional operation mask, 8-bit single channel array, that specifies elements of the output array to be changed.                                                                                                                                                                                                                                                                                                                                                                                                                                                                                                                                                                                                          | This function computes bitwise conjunction/AND of the two arrays (dst = src1 & src2) Calculates the per-element bit-wise conjunction of two arrays or an array and a scalar.                                                                                      |\n",
    "| 8           | cv2.bitwise_not(src[, dst[, mask]])<br>                                                                                      | src: input array.<br>dst: output array that has the same size and type as the input array.<br>mask: optional operation mask, 8-bit single channel array, that specifies elements of the output array to be changed.                                                                                                                                                                                                                                                                                                                                                                                                                                                                                                                                                                                                                                                                       | This function Inverts every bit of an array .                                                                                                                                                                                                                     |\n",
    "| 9           | cv2.bitwise_or(src1, src2[, dst[, mask]])<br>                                                                                | src1: first input array or a scalar.<br>src2: second input array or a scalar.<br>dst: output array that has the same size and type as the input arrays.<br>mask: optional operation mask, 8-bit single channel array, that specifies elements of the output array to be changed.                                                                                                                                                                                                                                                                                                                                                                                                                                                                                                                                                                                                          | This function Calculates the per-element bit-wise disjunction/OR of two arrays or an array and a scalar.                                                                                                                                                          |\n",
    "| 10          | bitwise_xor(src1, src2[, dst[, mask]])<br>                                                                                   | src1: first input array or a scalar.<br>src2: second input array or a scalar.<br>dst: output array that has the same size and type as the input arrays.<br>mask: optional operation mask, 8-bit single channel array, that specifies elements of the output array to be changed.                                                                                                                                                                                                                                                                                                                                                                                                                                                                                                                                                                                                          | This function Calculates the per-element bit-wise \"exclusive or\" <br>operation on two arrays or an array and a scalar.                                                                                                                                            |\n",
    "| 11          | cv2.inRange(src, lowerb, upperb[, dst])<br>                                                                                  | src: first input array.<br>lowerb: inclusive lower boundary array or a scalar.<br>upperb: inclusive upper boundary array or a scalar.<br>dst: output array of the same size as src and CV_8U type.                                                                                                                                                                                                                                                                                                                                                                                                                                                                                                                                                                                                                                                                                        | This function Checks if array elements lie between the elements of two other arrays.                                                                                                                                                                              |\n",
    "| 12          | cv2.Canny(image, threshold1, threshold2[, <br>edges[, apertureSize[, L2gradient]]])<br>                                      | image: 8-bit input image.<br>edges: output edge map; single channels 8-bit image, which has the same size as image .<br>threshold1: first threshold for the hysteresis procedure.<br>threshold2: second threshold for the hysteresis procedure.<br>apertureSize: aperture size for the Sobel operator.<br>L2gradient: a flag, indicating whether a more accurate L2 norm.                                                                                                                                                                                                                                                                                                                                                                                                                                                                                                                 | This function Finds edges in an image using the Canny algorithm                                                                                                                                                                                                   |\n",
    "| 13          | cv2.findContours(image, mode, method[, contours[, <br>hierarchy[, offset]]])<br>                                             | image: Source, an 8-bit single-channel image. Non-zero pixels are treated as 1's. Zero pixels remain 0's, so the image is treated as binary. <br>contours: Detected contours. Each contour is stored as a vector of points<br>hierarchy: Optional output vector<br>mode: Contour retrieval mode<br>method: Contour approximation method<br>offset: Optional offset by which every contour point is shifted.                                                                                                                                                                                                                                                                                                                                                                                                                                                                               | This function Finds contours in a binary image. The contours are a useful <br>tool for shape analysis and object detection and recognition.                                                                                                                       |\n",
    "| 14          | cv2.drawContours(image, contours, contourIdx, <br>color[, thickness[, lineType[, hierarchy[, <br>maxLevel[, offset]]]]])<br> | image: Destination image.<br>contours: All the input contours. Each contour is stored as a point vector.<br>contourIdx: Parameter indicating a contour to draw. If it is negative, all the contours are drawn.<br>color: Color of the contours.<br>thickness: Thickness of lines the contours are drawn with. If it is negative (for example, thickness=FILLED), the contour interiors are drawn.<br>lineType: Line connectivity. <br>hierarchy: Optional information about hierarchy. It is only needed if you want to draw only some of the contours (see maxLevel ).<br>maxLevel: Maximal level for drawn contours. If it is 0, only the specified contour is drawn. <br>If it is 1, the function draws the contour(s) and all the nested contours. <br>If it is 2, the function draws the contours, all the nested contours, all the nested-to-nested contours, and so on. <br><br> . | This function Draws contours outlines or filled contours.<br>The function draws contour outlines in the image if thickness ≥0<br>or fills the area bounded by the contours if thickness<0                                                                         |\n",
    "\n",
    "## **Implementation of Open CV**\n",
    "OpenCV is one of the most popular computer vision libraries. If you want to start your journey in the field of computer vision, then a thorough understanding of the concepts of OpenCV is of paramount importance.\n",
    "In this article, I will try to introduce the most basic and important concepts of OpenCV in an intuitive manner.\n",
    "This article will cover the following topics:\n",
    "\n",
    "- Reading an image\n",
    "- Extracting the RGB values of a pixel\n",
    "- Extracting the Region of Interest (ROI)\n",
    "- Resizing the Image\n",
    "- Rotating the Image\n",
    "- Drawing a Rectangle\n",
    "- Displaying text\n",
    "\n",
    "### Reading Images using OpenCV\n",
    "Let’s start with the simple task of reading an image using OpenCV.\n",
    "- By default OpenCV reads and acquires the image's channels in BGR format order(Blue Green Red)."
   ]
  },
  {
   "cell_type": "code",
   "execution_count": 38,
   "metadata": {},
   "outputs": [
    {
     "name": "stdout",
     "output_type": "stream",
     "text": [
      "<class 'numpy.ndarray'>\n",
      "Height = 720,  Width = 1280 , channels=3\n"
     ]
    }
   ],
   "source": [
    "# Importing the OpenCV library\n",
    "import cv2\n",
    "# Reading the image using imread() function\n",
    "image = cv2.imread('images/image1.jpg')  # Here the path of the image to be read is written\n",
    "\n",
    "print(type(image))\n",
    "\n",
    "# Extracting the height and width of an image\n",
    "# h, w = img.shape[:2]\n",
    "h, w, c = image.shape[:]\n",
    "# c indicates number of channels\n",
    "\n",
    "# Displaying the height and width of the image (pixels)\n",
    "print(\"Height = {},  Width = {} , channels={}\".format(h, w,c))"
   ]
  },
  {
   "cell_type": "markdown",
   "metadata": {},
   "source": [
    "Now we will focus on extracting the RGB values of an individual pixel.\n",
    "Note – OpenCV arranges the channels in BGR order. So the 0th value will correspond to Blue pixel and not Red."
   ]
  },
  {
   "cell_type": "code",
   "execution_count": 39,
   "metadata": {},
   "outputs": [],
   "source": [
    "cv2.imshow('image',image)\n",
    "cv2.waitKey(0)\n",
    "cv2.destroyAllWindows()"
   ]
  },
  {
   "cell_type": "code",
   "execution_count": 40,
   "metadata": {},
   "outputs": [
    {
     "name": "stdout",
     "output_type": "stream",
     "text": [
      "R = 255, G = 255, B = 255\n",
      "B = 255\n"
     ]
    }
   ],
   "source": [
    "# Extracting RGB values.\n",
    "# Here we have randomly chosen a pixel\n",
    "# by passing in 100, 100 for height and width.\n",
    "(B, G, R) = image[100, 100]\n",
    "# Displaying the pixel values\n",
    "print(\"R = {}, G = {}, B = {}\".format(R, G, B))\n",
    "# We can also pass the channel to extract\n",
    "# the value for a specific channel\n",
    "B = image[100, 100, 0]\n",
    "print(\"B = {}\".format(B))\n"
   ]
  },
  {
   "cell_type": "markdown",
   "metadata": {},
   "source": [
    "### Displaying an image using Open CV"
   ]
  },
  {
   "cell_type": "code",
   "execution_count": 41,
   "metadata": {},
   "outputs": [],
   "source": [
    "# imshow - arguments : window_name, image_name\n",
    "cv2.imshow('sample_image', image)\n",
    "\n",
    "# wait to execute next operation until a key is pressed, keep showing the image windows\n",
    "cv2.waitKey(5000)\n",
    "cv2.destroyAllWindows()"
   ]
  },
  {
   "cell_type": "markdown",
   "metadata": {},
   "source": [
    "### Matplotlib:\n",
    "1. Matplotlib is a cross-platform, data visualization and graphical plotting library for Python.\n",
    "2. Its numerical extension NumPy. As such, it offers a viable open source alternative to MATLAB(mathematics library). \n",
    "3. Developers can also use matplotlib’s APIs (Application Programming Interfaces) to embed plots in GUI applications. i.e can be used in other applications as well.\n",
    "4. OpenCV understands, processes and reads an image by default in BGR channel format (Blue - Green - Red).\n",
    "5. Whereas Matplotlib understands, processes and reads an image by default in RGB channel format (Red - Green - Blue).\n",
    "6. Hence while using OpenCV and matplotlib together, one needs to take care about conversion of image between BGR and RGB format.\n",
    "\n",
    "#### **Working with Images in Python using Matplotlib**\n",
    "The image module in matplotlib library is used for working with images in Python. The image module also includes two useful methods which are imread which is used to read images and imshow which is used to display the image.\n",
    "\n",
    "Below are some examples which illustrate various operations on images using matplotlib library:"
   ]
  },
  {
   "cell_type": "markdown",
   "metadata": {},
   "source": [
    "In this example, the program reads an image using the matplotlib.image.imread() and displays that image using matplotlib.image.imshow()."
   ]
  },
  {
   "cell_type": "code",
   "execution_count": 42,
   "metadata": {},
   "outputs": [
    {
     "data": {
      "text/plain": [
       "<matplotlib.image.AxesImage at 0x7fbe4d9f5250>"
      ]
     },
     "execution_count": 42,
     "metadata": {},
     "output_type": "execute_result"
    },
    {
     "data": {
      "image/png": "[encoded data removed]",
      "text/plain": [
       "<Figure size 432x288 with 1 Axes>"
      ]
     },
     "metadata": {
      "needs_background": "light"
     },
     "output_type": "display_data"
    }
   ],
   "source": [
    "# importing required libraries\n",
    "import matplotlib.pyplot as plt\n",
    "import matplotlib.image as img\n",
    "\n",
    "# reading the image\n",
    "testImage = img.imread('images/image1.jpg')\n",
    "\n",
    "# displaying the image\n",
    "plt.imshow(testImage)"
   ]
  },
  {
   "cell_type": "markdown",
   "metadata": {},
   "source": [
    "The below program reads an image and then represents the image in array.\n",
    "\n",
    "Any image is made up of arrays and numbers -> each pixel's color value is represented in terms of pixels"
   ]
  },
  {
   "cell_type": "code",
   "execution_count": 43,
   "metadata": {},
   "outputs": [
    {
     "name": "stdout",
     "output_type": "stream",
     "text": [
      "[[[255 255 255]\n",
      "  [255 255 255]\n",
      "  [255 255 255]\n",
      "  ...\n",
      "  [255 255 255]\n",
      "  [255 255 255]\n",
      "  [255 255 255]]\n",
      "\n",
      " [[255 255 255]\n",
      "  [255 255 255]\n",
      "  [255 255 255]\n",
      "  ...\n",
      "  [255 255 255]\n",
      "  [255 255 255]\n",
      "  [255 255 255]]\n",
      "\n",
      " [[255 255 255]\n",
      "  [255 255 255]\n",
      "  [255 255 255]\n",
      "  ...\n",
      "  [255 255 255]\n",
      "  [255 255 255]\n",
      "  [255 255 255]]\n",
      "\n",
      " ...\n",
      "\n",
      " [[255 255 255]\n",
      "  [255 255 255]\n",
      "  [255 255 255]\n",
      "  ...\n",
      "  [255 255 255]\n",
      "  [255 255 255]\n",
      "  [255 255 255]]\n",
      "\n",
      " [[255 255 255]\n",
      "  [255 255 255]\n",
      "  [255 255 255]\n",
      "  ...\n",
      "  [255 255 255]\n",
      "  [255 255 255]\n",
      "  [255 255 255]]\n",
      "\n",
      " [[255 255 255]\n",
      "  [255 255 255]\n",
      "  [255 255 255]\n",
      "  ...\n",
      "  [255 255 255]\n",
      "  [255 255 255]\n",
      "  [255 255 255]]]\n"
     ]
    }
   ],
   "source": [
    "# importing required libraries\n",
    "import matplotlib.pyplot as plt\n",
    "import matplotlib.image as img\n",
    "\n",
    "# reading the image\n",
    "testImage = img.imread('images/image1.jpg')\n",
    "\n",
    "# displaying the image as an array\n",
    "print(testImage)\n"
   ]
  },
  {
   "cell_type": "markdown",
   "metadata": {},
   "source": [
    "### Slicing of Image"
   ]
  },
  {
   "cell_type": "code",
   "execution_count": 46,
   "metadata": {},
   "outputs": [
    {
     "name": "stdout",
     "output_type": "stream",
     "text": [
      "(720, 1280, 3)\n",
      "(300, 600, 3)\n"
     ]
    },
    {
     "data": {
      "text/plain": [
       "<matplotlib.image.AxesImage at 0x7fbe4d8a4190>"
      ]
     },
     "execution_count": 46,
     "metadata": {},
     "output_type": "execute_result"
    },
    {
     "data": {
      "image/png": "[encoded data removed]",
      "text/plain": [
       "<Figure size 432x288 with 1 Axes>"
      ]
     },
     "metadata": {
      "needs_background": "light"
     },
     "output_type": "display_data"
    }
   ],
   "source": [
    "# importing required libraries\n",
    "import matplotlib.pyplot as plt\n",
    "import matplotlib.image as img\n",
    "  \n",
    "# reading the image\n",
    "testImage = img.imread('./images/image1.jpg')\n",
    "  \n",
    "# displaying the shape of the image\n",
    "print(testImage.shape)\n",
    "  \n",
    "# modifying the shape of the image\n",
    "modifiedImage = testImage[200:500, 200:800]\n",
    "\n",
    "# displaying the shape of the image\n",
    "print(modifiedImage.shape)\n",
    "  \n",
    "# displaying the modified image\n",
    "plt.imshow(modifiedImage)"
   ]
  },
  {
   "cell_type": "markdown",
   "metadata": {},
   "source": [
    "### Conversion from BGR to RGB format using cvtColor() function of OpenCV"
   ]
  },
  {
   "cell_type": "code",
   "execution_count": 47,
   "metadata": {},
   "outputs": [
    {
     "data": {
      "text/plain": [
       "<matplotlib.image.AxesImage at 0x7fbe4d88c2e0>"
      ]
     },
     "execution_count": 47,
     "metadata": {},
     "output_type": "execute_result"
    },
    {
     "data": {
      "image/png": "[encoded data removed]",
      "text/plain": [
       "<Figure size 432x288 with 1 Axes>"
      ]
     },
     "metadata": {
      "needs_background": "light"
     },
     "output_type": "display_data"
    }
   ],
   "source": [
    "# Converting OpenCV read image (BGR format) to RGB format and ploting using matplotlib\n",
    "# Here cvtColor function accepts the image and the colour conversion code\n",
    "img = cv2.cvtColor(image, cv2.COLOR_BGR2RGB)\n",
    "plt.imshow(img)"
   ]
  },
  {
   "cell_type": "code",
   "execution_count": 48,
   "metadata": {},
   "outputs": [
    {
     "name": "stdout",
     "output_type": "stream",
     "text": [
      "<class 'numpy.ndarray'>\n",
      "<class 'numpy.ndarray'>\n"
     ]
    }
   ],
   "source": [
    "# images -> these are NUMPY arrays\n",
    "print(type(image))\n",
    "print(type(img))\n"
   ]
  },
  {
   "cell_type": "markdown",
   "metadata": {
    "id": "FedkVt4kh9vE"
   },
   "source": [
    "1. Here each image object i.e. the images are numpy arrays.\n",
    "2. ndarray means a n dimensional array"
   ]
  },
  {
   "cell_type": "code",
   "execution_count": 49,
   "metadata": {},
   "outputs": [
    {
     "name": "stdout",
     "output_type": "stream",
     "text": [
      "uint8\n"
     ]
    }
   ],
   "source": [
    "# Data type of elements in numpy array which represents an image\n",
    "# print(img.dtype)\n",
    "print(image.dtype)"
   ]
  },
  {
   "cell_type": "markdown",
   "metadata": {
    "id": "1SfPUS96iYWv"
   },
   "source": [
    "### Resizing the Image"
   ]
  },
  {
   "cell_type": "code",
   "execution_count": 50,
   "metadata": {},
   "outputs": [],
   "source": [
    "# resize() function takes 2 parameters,\n",
    "# the image and the dimensions\n",
    "resize = cv2.resize(image, (500,1000)) # keep in mind always (w,h) in tuple.\n",
    "cv2.imshow('sample_image',resize)\n",
    "\n",
    "cv2.waitKey(0)\n",
    "cv2.destroyAllWindows()"
   ]
  },
  {
   "cell_type": "markdown",
   "metadata": {},
   "source": [
    "The problem with this approach is that the aspect ratio of the image is not maintained. So we need to do some extra work in order to maintain a proper aspect ratio."
   ]
  },
  {
   "cell_type": "markdown",
   "metadata": {},
   "source": [
    "### Drawing a Rectangle\n",
    "It is an in-place operation.\n",
    "\n",
    "OpenCV-Python is a library of Python bindings designed to solve computer vision problems. cv2.rectangle() method is used to draw a rectangle on any image.\n",
    "\n",
    "Syntax: cv2.rectangle(image, start_point, end_point, color, thickness)\n",
    "\n",
    "Parameters:\n",
    "- image: It is the image on which rectangle is to be drawn.\n",
    "- start_point: It is the starting coordinates of rectangle. The coordinates are represented as tuples of two values i.e. (X coordinate value, Y coordinate value).\n",
    "- end_point: It is the ending coordinates of rectangle. The coordinates are represented as tuples of two values i.e. (X coordinate value, Y coordinate value).\n",
    "- color: It is the color of border line of rectangle to be drawn. For BGR, we pass a tuple. eg: (255, 0, 0) for blue color.\n",
    "- thickness: It is the thickness of the rectangle border line in px. Thickness of -1 px will fill the rectangle shape by the specified color.\n",
    "\n",
    "Return Value: It returns an image."
   ]
  },
  {
   "cell_type": "code",
   "execution_count": 51,
   "metadata": {},
   "outputs": [],
   "source": [
    "# We are copying the original image,\n",
    "# as it is an in-place operation.\n",
    "output = image.copy()\n",
    "\n",
    "# Using the rectangle() function to create a rectangle.\n",
    "rectangle = cv2.rectangle(output, (500, 500),(600, 400), (255, 0, 0), 2)\n",
    "cv2.imshow('sample_image',rectangle)\n",
    "\n",
    "cv2.waitKey(0)\n",
    "cv2.destroyAllWindows()\n"
   ]
  },
  {
   "cell_type": "markdown",
   "metadata": {},
   "source": [
    "### Displaying text\n",
    "It is also an in-place operation\n",
    "\n",
    "It takes in 7 arguments –\n",
    "\n",
    "- Image\n",
    "- Text to be displayed\n",
    "- Bottom-left corner co-ordinates, from where the text should start\n",
    "- Font\n",
    "- Font size\n",
    "- Color (BGR format)\n",
    "- Line width"
   ]
  },
  {
   "cell_type": "code",
   "execution_count": 52,
   "metadata": {},
   "outputs": [],
   "source": [
    "# Copying the original image\n",
    "output = image.copy()\n",
    "\n",
    "# Adding the text using putText() function\n",
    "text = cv2.putText(output, 'OpenCV Demo', (500, 550),cv2.FONT_HERSHEY_SIMPLEX, 3, (255, 0, 0), 2)\n",
    "cv2.imshow('sample_image',text)\n",
    "\n",
    "cv2.waitKey(0)\n",
    "cv2.destroyAllWindows()"
   ]
  },
  {
   "cell_type": "markdown",
   "metadata": {},
   "source": [
    "### Combining two images\n",
    "\n",
    "eg. **Image1** = Windows Logo; **Image2** = Linux Logo; **Image3 = Image1 + Image2**\n",
    "#### Illustrations\n",
    "\n",
    "<img src = \"images/windowslogo.png\" width =\"300\" height = \"300\" align=\"left\" vspace=\"13\"/> \n",
    "<img src = \"images/linuxlogo.png\" width =\"300\" height = \"300\" align=\"left\" /> \n",
    "<img src = \"images/combine_images.png\" width =\"300\" height = \"300\" align=\"left\"/>"
   ]
  },
  {
   "cell_type": "code",
   "execution_count": 53,
   "metadata": {},
   "outputs": [],
   "source": [
    "import cv2\n",
    "import matplotlib.pyplot as plt"
   ]
  },
  {
   "cell_type": "code",
   "execution_count": 54,
   "metadata": {
    "id": "eVYNYutnxqBF"
   },
   "outputs": [],
   "source": [
    "img1 = cv2.imread('images/DK.jpeg')\n",
    "img2 = cv2.imread('images/purple_night.jpg')\n",
    "img2 = cv2.resize(img2, (img1.shape[1],img1.shape[0]))\n",
    "img_res = img1 + img2\n",
    "cv2.imshow(\"img1\",img1)\n",
    "cv2.imshow(\"img2\",img2)\n",
    "cv2.imshow(\"result\",img_res)\n",
    "cv2.waitKey(0)\n",
    "cv2.destroyAllWindows()"
   ]
  },
  {
   "cell_type": "code",
   "execution_count": 55,
   "metadata": {
    "id": "SY8gUZkNxqBG",
    "outputId": "e4a4ae69-b89e-4a54-d61c-bb4ceac76325"
   },
   "outputs": [
    {
     "data": {
      "text/plain": [
       "<matplotlib.image.AxesImage at 0x7fbe4d7ec310>"
      ]
     },
     "execution_count": 55,
     "metadata": {},
     "output_type": "execute_result"
    },
    {
     "data": {
      "image/png": "[encoded data removed]",
      "text/plain": [
       "<Figure size 432x288 with 1 Axes>"
      ]
     },
     "metadata": {
      "needs_background": "light"
     },
     "output_type": "display_data"
    }
   ],
   "source": [
    "img_res=cv2.cvtColor(img_res,cv2.COLOR_BGR2RGB)\n",
    "plt.imshow(img_res)"
   ]
  },
  {
   "cell_type": "markdown",
   "metadata": {
    "id": "G6b6jBGTxqBG"
   },
   "source": [
    "### Converting Image to Grayscale\n",
    "\n",
    "#### Illustrations\n",
    "<img src=\"images/grayscale.png\"/>"
   ]
  },
  {
   "cell_type": "code",
   "execution_count": 56,
   "metadata": {
    "id": "QEuC9x6KxqBH"
   },
   "outputs": [],
   "source": [
    "# Converting image to grayscale (black and white/ monocolor)\n",
    "img=cv2.imread('images/bcci.png')\n",
    "gray = cv2.cvtColor(img, cv2.COLOR_BGR2GRAY)\n",
    "cv2.imshow(\"original image\",img)\n",
    "cv2.imshow(\"Grayscale\",gray)\n",
    "cv2.waitKey(0)\n",
    "cv2.destroyAllWindows()"
   ]
  },
  {
   "cell_type": "markdown",
   "metadata": {
    "id": "dUpT9Pr0xqBJ"
   },
   "source": [
    "### Other Properties of Image\n"
   ]
  },
  {
   "cell_type": "code",
   "execution_count": 57,
   "metadata": {
    "id": "7a5KAKy8xqBK",
    "outputId": "b24a55a3-324c-43cb-9087-adedd5b68f53"
   },
   "outputs": [
    {
     "name": "stdout",
     "output_type": "stream",
     "text": [
      "Number of Pixels: 151200\n",
      "width,height 225 224\n",
      "Datatype: uint8\n"
     ]
    }
   ],
   "source": [
    "# Total number of pixels using size\n",
    "cv2.imshow(\"Image\", img)\n",
    "cv2.waitKey(0)\n",
    "cv2.destroyAllWindows()\n",
    "\n",
    "pix = img.size\n",
    "print(\"Number of Pixels: {}\".format(pix))\n",
    "print(\"width,height\",img.shape[1],img.shape[0])\n",
    "\n",
    "# Image Datatype\n",
    "dType = img.dtype\n",
    "print(\"Datatype: {}\".format(dType))\n"
   ]
  },
  {
   "cell_type": "markdown",
   "metadata": {
    "id": "PmnI8fCWxqBK"
   },
   "source": [
    "### Creating a Black Background using zeros() function in Numpy Library\n"
   ]
  },
  {
   "cell_type": "code",
   "execution_count": 58,
   "metadata": {
    "id": "nmG7msAFxqBL",
    "outputId": "dc927665-2d91-4386-f8bd-67a04e259baf"
   },
   "outputs": [
    {
     "name": "stdout",
     "output_type": "stream",
     "text": [
      "(800, 800, 3)\n"
     ]
    }
   ],
   "source": [
    "import cv2\n",
    "import numpy as np\n",
    "blImg = np.zeros((800,800,3))\n",
    "print(blImg.shape)\n",
    "\n",
    "cv2.imshow(\"black\",blImg)\n",
    "cv2.waitKey(0)\n",
    "cv2.destroyAllWindows()"
   ]
  },
  {
   "cell_type": "markdown",
   "metadata": {
    "id": "3TpMe4XtxqBL"
   },
   "source": [
    "### Changing value of ROI (Region of Interest)\n",
    "- ROI is a part/subset of the image i.e a set of pixels\n",
    "- Example of ROI Extraction\n",
    "\n",
    "#### Illustrations\n",
    "<img src=\"images/roi.jpg\" />"
   ]
  },
  {
   "cell_type": "code",
   "execution_count": 59,
   "metadata": {
    "id": "X8qGFHyJxqBM"
   },
   "outputs": [],
   "source": [
    "# bgr format\n",
    "im2 = blImg.copy()\n",
    "\n",
    "# green \n",
    "im2[45:400,35:300] = (0,255,0)\n",
    "cv2.imshow(\"im2\",im2)\n",
    "\n",
    "# blue\n",
    "im2[450:500,350:590] = (255,0,0)\n",
    "cv2.imshow(\"im2_1\",im2)\n",
    "\n",
    "# red\n",
    "im2[700:840,650:] = (0,0,255)\n",
    "cv2.imshow(\"im2_2\",im2)\n",
    "\n",
    "# pink = red + blue\n",
    "im2[500:570,550:600] = (71,0,170)\n",
    "cv2.imshow(\"im2_3\",im2)\n",
    "\n",
    "# yellow = green + blue\n",
    "im2[:170,550:] = (0,255,255)\n",
    "cv2.imshow(\"im2_4\",im2)\n",
    "\n",
    "\n",
    "roi = im2[100:700, 340:780]\n",
    "cv2.imshow(\"roi\", roi)\n",
    "cv2.waitKey(0)\n",
    "cv2.destroyAllWindows()"
   ]
  },
  {
   "cell_type": "markdown",
   "metadata": {
    "id": "oXbG8oTrxqBM"
   },
   "source": [
    "# Image Blending\n",
    "\n",
    "This is also image addition, but different weights are given to images in order to give a feeling of blending or transparency. Images are added as per the equation below:\n",
    "\n",
    "                    g(x)=(1−α)f0(x)+αf1(x)\n",
    "By varying α from 0→1, you can perform a cool transition between one image to another.\n",
    "\n",
    "Here I took two images to blend together. The first image is given a weight of 0.7 and the second image is given 0.3. cv.addWeighted() applies the following equation to the image:\n",
    "\n",
    "                     dst=α⋅img1+β⋅img2+γ\n",
    "Here γ is taken as zero.\n",
    "\n",
    "**Note** : Image combination is a subset of Image Blending. In image blendign we can specify the amont/percentage of effect that we want form either of the input images. \n",
    "\n",
    "#### Illustrations\n",
    "<img src=\"images/blending1.png\" aligh = \"left\"/>\n",
    "<img src=\"images/blending2.png\"/>"
   ]
  },
  {
   "cell_type": "code",
   "execution_count": 66,
   "metadata": {
    "id": "teANANCCxqBN",
    "outputId": "28306450-448a-4025-b58e-3551ae79b45b",
    "scrolled": true
   },
   "outputs": [
    {
     "name": "stdout",
     "output_type": "stream",
     "text": [
      "(344, 550, 3)\n",
      "(344, 550, 3)\n"
     ]
    }
   ],
   "source": [
    "import cv2\n",
    "\n",
    "img1 = cv2.imread('./images/img__1.png')\n",
    "# img1 = cv2.cvtColor(img1, cv2.COLOR_BGR2RGB)\n",
    "cv2.imshow(\"1mg1\",img1)\n",
    "print(img1.shape)\n",
    "\n",
    "\n",
    "img2 = cv2.imread('images/img2.png')\n",
    "# img2 = cv2.cvtColor(img2, cv2.COLOR_BGR2RGB)\n",
    "img2 = cv2.resize(img2, (img1.shape[1],img1.shape[0]))\n",
    "cv2.imshow(\"img2\",img2)\n",
    "print(img2.shape)\n",
    "\n",
    "alpha = 0.7\n",
    "beta = 1 - alpha\n",
    "# Blending using addWeighted() function which accepts:\n",
    "# g(x)=(1−α)f0(x)+αf1(x)\n",
    "# Source of 1st image\n",
    "# Alpha\n",
    "# Source of 2nd image\n",
    "# Beta\n",
    "# Gamma is scalar added to each sum\n",
    "\n",
    "dst = cv2.addWeighted(img1,alpha,img2,beta,0.0)\n",
    "\n",
    "dst1 = cv2.addWeighted(img1,alpha,img2,beta,1.0)\n",
    "\n",
    "cv2.imshow(\"weighted\",dst)\n",
    "cv2.imshow(\"weighted1\",dst1)\n",
    "cv2.waitKey(0)\n",
    "cv2.destroyAllWindows()"
   ]
  },
  {
   "cell_type": "markdown",
   "metadata": {},
   "source": [
    "### Bitwise Operations and Masking\n",
    "1. Lower pixel values are close to BLACK\n",
    "2. Higher pixel values are close to WHITE\n",
    "3. These operations are done bitwise i.e. Pixel wise. \n",
    "4. The logic of operation remains same as that of seen in logical/ bitwise operations\n",
    "<img src=\"./images/bitwise.jpeg\">"
   ]
  },
  {
   "cell_type": "code",
   "execution_count": 1,
   "metadata": {},
   "outputs": [],
   "source": [
    "# Create a black image\n",
    "# A grayscale image can have 3 channels but only if all pixels have the same value . As my example has 3 channels I'm using a black image with 3 channels. You can also use a single channel from the image as shown above.\n",
    "import cv2\n",
    "import numpy as np\n",
    "img1 = np.zeros((250,500,3),np.uint8)\n",
    "img1_copy = np.copy(img1)"
   ]
  },
  {
   "cell_type": "code",
   "execution_count": 2,
   "metadata": {},
   "outputs": [],
   "source": [
    "cv2.imshow(\"img1\",img1)\n",
    "cv2.waitKey(0)\n",
    "cv2.destroyAllWindows()"
   ]
  },
  {
   "cell_type": "code",
   "execution_count": 3,
   "metadata": {},
   "outputs": [],
   "source": [
    "img1 = cv2.rectangle(img1,(200,0),(300,100),(255,255,255),-1)\n",
    "cv2.imshow(\"img1_rec\",img1)\n",
    "cv2.imshow(\"img1\",img1_copy)\n",
    "cv2.waitKey(0)\n",
    "cv2.destroyAllWindows()"
   ]
  },
  {
   "cell_type": "code",
   "execution_count": 5,
   "metadata": {},
   "outputs": [],
   "source": [
    "img2 = cv2.imread(\"images/image_1.png\")\n",
    "cv2.imshow(\"img2\",img2)\n",
    "cv2.waitKey(0)\n",
    "cv2.destroyAllWindows()"
   ]
  },
  {
   "cell_type": "code",
   "execution_count": 6,
   "metadata": {},
   "outputs": [],
   "source": [
    "#Performs bitwise and\n",
    "bitand = cv2.bitwise_and(img1,img2)"
   ]
  },
  {
   "cell_type": "code",
   "execution_count": 7,
   "metadata": {},
   "outputs": [],
   "source": [
    "cv2.imshow(\"bitand\",bitand)\n",
    "cv2.imshow(\"img1\",img1)\n",
    "cv2.imshow(\"img2\",img2)\n",
    "cv2.waitKey(0)\n",
    "cv2.destroyAllWindows()"
   ]
  },
  {
   "cell_type": "code",
   "execution_count": 8,
   "metadata": {},
   "outputs": [],
   "source": [
    "bitor = cv2.bitwise_or(img1,img2)"
   ]
  },
  {
   "cell_type": "code",
   "execution_count": 9,
   "metadata": {},
   "outputs": [],
   "source": [
    "cv2.imshow(\"bitor\",bitor)\n",
    "cv2.imshow(\"img1\",img1)\n",
    "cv2.imshow(\"img2\",img2)\n",
    "cv2.waitKey(0)\n",
    "cv2.destroyAllWindows()"
   ]
  },
  {
   "cell_type": "code",
   "execution_count": 10,
   "metadata": {},
   "outputs": [],
   "source": [
    "bitxor = cv2.bitwise_xor(img1,img2)"
   ]
  },
  {
   "cell_type": "code",
   "execution_count": 11,
   "metadata": {},
   "outputs": [],
   "source": [
    "cv2.imshow(\"bitxor\",bitxor)\n",
    "cv2.imshow(\"img1\",img1)\n",
    "cv2.imshow(\"img2\",img2)\n",
    "cv2.waitKey(0)\n",
    "cv2.destroyAllWindows()"
   ]
  },
  {
   "cell_type": "code",
   "execution_count": 12,
   "metadata": {},
   "outputs": [],
   "source": [
    "bitnot = cv2.bitwise_not(img1)"
   ]
  },
  {
   "cell_type": "code",
   "execution_count": 13,
   "metadata": {},
   "outputs": [],
   "source": [
    "cv2.imshow(\"bitnot\",bitnot)\n",
    "cv2.imshow(\"img1\",img1)\n",
    "cv2.waitKey(0)\n",
    "cv2.destroyAllWindows()"
   ]
  },
  {
   "cell_type": "markdown",
   "metadata": {},
   "source": [
    "### Masking\n",
    "1. Masking is an image processing method in which we define a small 'image piece' and use it to modify a larger image.  \n",
    "2. When talking about editing and processing images the term 'masking' refers to the practice of using a mask to protect a specific area of an image, just as you would use masking tape when painting your house. \n",
    "3. Masking an area of an image protects that area from being altered by changes made to the rest of the image.\n",
    "4. Masking is the process that is underneath many types of image processing, including edge detection, motion detection, and noise reduction\n",
    "5. Usually binary masks are used (BLACK and WHITE)\n",
    "6. Generally, BLACK portions are those which are undesired and want to be removed/ masked off\n",
    "6. Generally, WHITE portions are those which are desired and want to be retained in the original image\n",
    "\n"
   ]
  },
  {
   "cell_type": "markdown",
   "metadata": {},
   "source": [
    "## Refer the ppt on masking while running the code snippets below."
   ]
  },
  {
   "cell_type": "code",
   "execution_count": 14,
   "metadata": {},
   "outputs": [],
   "source": [
    "# Load img1\n",
    "img1 = cv2.imread('images/kohli-cover-drive-kolkta1.jpg')\n",
    "cv2.imshow('img1',img1)\n",
    "cv2.waitKey(0)\n",
    "cv2.destroyAllWindows()"
   ]
  },
  {
   "cell_type": "code",
   "execution_count": 15,
   "metadata": {},
   "outputs": [],
   "source": [
    "# Load img2\n",
    "img2 = cv2.imread('./images/bcci.png')\n",
    "cv2.imshow('img2',img2)\n",
    "cv2.waitKey(0)\n",
    "cv2.destroyAllWindows()"
   ]
  },
  {
   "cell_type": "code",
   "execution_count": 16,
   "metadata": {},
   "outputs": [
    {
     "name": "stdout",
     "output_type": "stream",
     "text": [
      "(224, 225, 3)\n"
     ]
    }
   ],
   "source": [
    "rows,columns,channels = img2.shape\n",
    "print(img2.shape)\n",
    "imgz = img1.copy()\n",
    "imgz[0:rows,0:columns,:] = img2\n",
    "roi = img1[0:rows,0:columns,:]\n",
    "cv2.imshow('imgz',imgz)\n",
    "cv2.imshow('roi',roi)\n",
    "cv2.imshow('img1',img1)\n",
    "cv2.waitKey(0)\n",
    "cv2.destroyAllWindows()"
   ]
  },
  {
   "cell_type": "code",
   "execution_count": 17,
   "metadata": {},
   "outputs": [],
   "source": [
    "# convert the image to grayscale\n",
    "img2gray = cv2.cvtColor(img2,cv2.COLOR_BGR2GRAY)\n",
    "cv2.imshow('img2gray',img2gray)\n",
    "cv2.imshow(\"bcci\",img2)\n",
    "cv2.waitKey(0)\n",
    "cv2.destroyAllWindows()"
   ]
  },
  {
   "cell_type": "code",
   "execution_count": 18,
   "metadata": {},
   "outputs": [],
   "source": [
    "# each pixel having value more than 180(threshold) will be set to white i.e max_value(255) for a mask/ HIGH\n",
    "# pixel values lower than threshold are set \n",
    "ret, mask = cv2.threshold(img2gray, 180, 255, cv2.THRESH_BINARY)\n",
    "cv2.imshow('mask',mask)\n",
    "cv2.imshow(\"img2gray\",img2gray)\n",
    "cv2.waitKey(0)\n",
    "cv2.destroyAllWindows()"
   ]
  },
  {
   "cell_type": "code",
   "execution_count": 19,
   "metadata": {},
   "outputs": [
    {
     "name": "stdout",
     "output_type": "stream",
     "text": [
      "180.0\n"
     ]
    }
   ],
   "source": [
    "# ret returns the threshold used \n",
    "print(ret)"
   ]
  },
  {
   "cell_type": "code",
   "execution_count": 20,
   "metadata": {},
   "outputs": [],
   "source": [
    "# binary inverse of the mask \n",
    "mask_inv = cv2.bitwise_not(mask)\n",
    "cv2.imshow('mask_inv',mask_inv)\n",
    "cv2.imshow('mask',mask)\n",
    "cv2.waitKey(0)\n",
    "cv2.destroyAllWindows()"
   ]
  },
  {
   "cell_type": "code",
   "execution_count": 21,
   "metadata": {},
   "outputs": [],
   "source": [
    "# adding mask to image using bitwise_and\n",
    "img1_bg = cv2.bitwise_and(roi, roi, mask = mask)\n",
    "cv2.imshow('img_1bg',img1_bg)\n",
    "cv2.imshow('roi',roi)\n",
    "cv2.imshow('mask',mask)\n",
    "cv2.waitKey(0)\n",
    "cv2.destroyAllWindows()"
   ]
  },
  {
   "cell_type": "code",
   "execution_count": 22,
   "metadata": {},
   "outputs": [],
   "source": [
    "# # Take only region of logo from logo image.\n",
    "img2_fg = cv2.bitwise_and(img2,img2,mask = mask_inv)\n",
    "cv2.imshow('img2',img2)\n",
    "cv2.imshow('img2_fg',img2_fg)\n",
    "cv2.imshow('mask_inv',mask_inv)\n",
    "cv2.waitKey(0)\n",
    "cv2.destroyAllWindows()"
   ]
  },
  {
   "cell_type": "code",
   "execution_count": 23,
   "metadata": {},
   "outputs": [],
   "source": [
    "# # Put logo in ROI and modify the main image\n",
    "dst = cv2.add(img1_bg,img2_fg)\n",
    "img1[0:rows, 0:columns ] = dst\n",
    "cv2.imshow('img1_bg',img1_bg)\n",
    "cv2.imshow('img2_fg',img2_fg)\n",
    "cv2.imshow('img1',img1)\n",
    "cv2.waitKey(0)\n",
    "cv2.destroyAllWindows()"
   ]
  },
  {
   "cell_type": "code",
   "execution_count": 24,
   "metadata": {},
   "outputs": [],
   "source": [
    "cv2.imshow('img1',img1)\n",
    "cv2.imshow('img2',img2)\n",
    "cv2.imshow('roi',roi)\n",
    "cv2.imshow('img2gray',img2gray)\n",
    "cv2.imshow('mask',mask)\n",
    "cv2.imshow('mask_inv',mask_inv)\n",
    "cv2.imshow('img1_bg',img1_bg)\n",
    "cv2.imshow('img2_fg',img2_fg)\n",
    "\n",
    "cv2.imshow('dst',dst)\n",
    "cv2.waitKey(0)\n",
    "cv2.destroyAllWindows()"
   ]
  },
  {
   "cell_type": "markdown",
   "metadata": {},
   "source": [
    "### Detecting an object based on the range of pixel values in the HSV colorspace using inRange()\n",
    "\n",
    "#### HSV colorspace\n",
    "1. HSV (hue, saturation, value) colorspace is a model to represent the colorspace similar to the RGB color model. 2. Since the hue channel models the color type, it is very useful in image processing tasks that need to segment objects based on its color.\n",
    "5. Saturation describes the amount of gray in a particular color, from 0 to 100 percent. Reducing this component toward zero introduces more gray and produces a faded effect. Sometimes, saturation appears as a range from 0 to 1, where 0 is gray, and 1 is a primary color.\n",
    "6. Value works in conjunction with saturation and describes the brightness or intensity of the color, from 0 to 100 percent, where 0 is completely black, and 100 is the brightest and reveals the most color.\n",
    "\n",
    "<img src=\"./images/hsv.jpg\">\n",
    "\n",
    "#### Object Detection Illustration\n",
    "\n",
    "<img src=\"./images/inrange1.jpeg\" width = \"400\" height=\"550\" align = \"left\"/>\n",
    "<img src=\"./images/inrange2.jpeg\" width = \"400\" height=\"400\"/>\n"
   ]
  },
  {
   "cell_type": "code",
   "execution_count": 25,
   "metadata": {},
   "outputs": [],
   "source": [
    "# Reading the image\n",
    "img_DK = cv2.imread(\"./images/DK.jpeg\")\n",
    "cv2.imshow(\"img\", img_DK)\n",
    "cv2.waitKey(0)\n",
    "cv2.destroyAllWindows()"
   ]
  },
  {
   "cell_type": "code",
   "execution_count": 26,
   "metadata": {},
   "outputs": [],
   "source": [
    "# hsv image\n",
    "hsv = cv2.cvtColor(img_DK, cv2.COLOR_BGR2HSV)\n",
    "cv2.imshow(\"hsv\", hsv)\n",
    "cv2.waitKey(0)\n",
    "cv2.destroyAllWindows()"
   ]
  },
  {
   "cell_type": "code",
   "execution_count": 27,
   "metadata": {},
   "outputs": [],
   "source": [
    "# hsv format -> (min hue, min saturation , min value) -> (max hue, max saturation , max value)\n",
    "mask1 = cv2.inRange(hsv, (15,30,150), (120, 255, 255))\n",
    "cv2.imshow(\"mask1\", mask1)\n",
    "cv2.imshow(\"hsv\",hsv)\n",
    "cv2.waitKey(0)\n",
    "cv2.destroyAllWindows()"
   ]
  },
  {
   "cell_type": "code",
   "execution_count": 28,
   "metadata": {},
   "outputs": [],
   "source": [
    "mask2 = cv2.inRange(hsv, (100,52,65), (300, 250, 255))\n",
    "cv2.imshow(\"mask2\", mask2)\n",
    "cv2.imshow(\"hsv\",hsv)\n",
    "cv2.waitKey(0)\n",
    "cv2.destroyAllWindows()"
   ]
  },
  {
   "cell_type": "code",
   "execution_count": 29,
   "metadata": {},
   "outputs": [],
   "source": [
    "## final mask and masked\n",
    "mask = cv2.bitwise_or(mask1, mask2)\n",
    "cv2.imshow(\"mask\", mask)\n",
    "cv2.waitKey(0)\n",
    "cv2.destroyAllWindows()"
   ]
  },
  {
   "cell_type": "code",
   "execution_count": 30,
   "metadata": {},
   "outputs": [],
   "source": [
    "# Target image\n",
    "target = cv2.bitwise_and(img_DK,img_DK, mask=mask)\n",
    "\n",
    "cv2.imshow(\"target\",target)\n",
    "cv2.waitKey(0)\n",
    "cv2.destroyAllWindows()"
   ]
  },
  {
   "cell_type": "markdown",
   "metadata": {},
   "source": [
    "### Countours\n",
    "1. Contours can be explained simply as a curve joining all the continuous points (along the boundary), having same color or intensity. The contours are a useful tool for shape analysis and object detection and recognition.\n",
    "2. It should be noted that we should convert the image into binary or grayscale images for getting better results.\n",
    "\n",
    "\n",
    "Illustration :\n",
    "<img src=\"./images/contour.png\">"
   ]
  },
  {
   "cell_type": "code",
   "execution_count": 31,
   "metadata": {},
   "outputs": [],
   "source": [
    "# Read image\n",
    "image = cv2.imread('./images/DK.jpeg')\n",
    "cv2.imshow(\"image\",image)\n",
    "cv2.waitKey(0)\n",
    "cv2.destroyAllWindows()"
   ]
  },
  {
   "cell_type": "code",
   "execution_count": 32,
   "metadata": {},
   "outputs": [],
   "source": [
    "gray = cv2.cvtColor(image, cv2.COLOR_BGR2GRAY)\n",
    "cv2.imshow(\"gray\", gray)\n",
    "cv2.waitKey(0)\n",
    "cv2.destroyAllWindows()"
   ]
  },
  {
   "cell_type": "markdown",
   "metadata": {},
   "source": [
    "## Edge detection \n",
    "It is an image-processing technique, which is used to identify the boundaries (edges) of objects, or regions within an image. Edges are among the most important features associated with images. We come to know of the underlying structure of an image through its edges."
   ]
  },
  {
   "cell_type": "code",
   "execution_count": 33,
   "metadata": {},
   "outputs": [],
   "source": [
    "# Find Canny edges\n",
    "edged = cv2.Canny(gray, 50, 250)\n",
    "cv2.imshow(\"edged\", edged)\n",
    "cv2.waitKey(0)\n",
    "cv2.destroyAllWindows()"
   ]
  },
  {
   "cell_type": "code",
   "execution_count": 34,
   "metadata": {},
   "outputs": [],
   "source": [
    "# Finding Contours\n",
    "\n",
    "# since findContours alters the image, finds countours\n",
    "contours, hierarchy = cv2.findContours(edged, cv2.RETR_EXTERNAL, cv2.CHAIN_APPROX_NONE)"
   ]
  },
  {
   "cell_type": "code",
   "execution_count": 35,
   "metadata": {},
   "outputs": [
    {
     "name": "stdout",
     "output_type": "stream",
     "text": [
      "Number of Contours found = 308\n"
     ]
    }
   ],
   "source": [
    "cv2.imshow('Canny Edges After Contouring', edged)\n",
    "print(\"Number of Contours found = \" + str(len(contours)))\n",
    "cv2.waitKey(0)\n",
    "cv2.destroyAllWindows()"
   ]
  },
  {
   "cell_type": "code",
   "execution_count": 36,
   "metadata": {},
   "outputs": [],
   "source": [
    "# Draw all contours\n",
    "# -1 signifies drawing all contours\n",
    "cv2.drawContours(image, contours, -1, (0, 255, 0), 2)\n",
    "cv2.imshow('Contours', image)\n",
    "cv2.waitKey(0)\n",
    "cv2.destroyAllWindows()"
   ]
  },
  {
   "cell_type": "code",
   "execution_count": null,
   "metadata": {},
   "outputs": [],
   "source": []
  }
 ],
 "metadata": {
  "colab": {
   "collapsed_sections": [],
   "name": "OpenCV_Overview.ipynb",
   "provenance": []
  },
  "kernelspec": {
   "display_name": "Python 3",
   "language": "python",
   "name": "python3"
  },
  "language_info": {
   "codemirror_mode": {
    "name": "ipython",
    "version": 3
   },
   "file_extension": ".py",
   "mimetype": "text/x-python",
   "name": "python",
   "nbconvert_exporter": "python",
   "pygments_lexer": "ipython3",
   "version": "3.8.10"
  }
 },
 "nbformat": 4,
 "nbformat_minor": 1
}
